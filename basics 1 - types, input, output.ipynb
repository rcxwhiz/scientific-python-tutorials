{
 "cells": [
  {
   "cell_type": "markdown",
   "source": [
    "# Basics - types, input, output\n",
    "\n",
    "## Intro to jupyter notebooks\n",
    "\n",
    "Normally you write and run Python files with a `.py` file extension. Those files run all at once, top to bottom. Scientists often use jupyter notebook files (`.ipynb`) which run code one cell at a time. The cells can be run in any order and multiple times. Jupyter notebook files let you embed text (markdown and LaTeX) or graphs in your code, so you can actually make a fancy presentation of some data. Each cell is either a code or a markdown cell, and each can be edited/run (running a markdown cell renders it).\n",
    "\n",
    "## Output\n",
    "\n",
    "In Python you can *print* things to the console (terminal, whatever) using the `print` function, ex. `print(\"hello\")`. The print function will print whatever you put in the parenthesis.\n"
   ],
   "metadata": {
    "collapsed": false
   },
   "id": "4fda28b6a1392675"
  },
  {
   "cell_type": "code",
   "outputs": [
    {
     "name": "stdout",
     "output_type": "stream",
     "text": [
      "hello\n",
      "500\n",
      "0.5\n"
     ]
    }
   ],
   "source": [
    "print(\"hello\")\n",
    "print(500)\n",
    "print(1 / 2)"
   ],
   "metadata": {
    "collapsed": false,
    "ExecuteTime": {
     "end_time": "2024-06-07T21:35:30.421939Z",
     "start_time": "2024-06-07T21:35:30.417780Z"
    }
   },
   "id": "411b488d96388ad5",
   "execution_count": 12
  },
  {
   "cell_type": "markdown",
   "source": [
    "## Variables\n",
    "\n",
    "In Python you can store **values** into **variables**, which can have almost any name. You can assign and reassign variables whenever you want."
   ],
   "metadata": {
    "collapsed": false
   },
   "id": "279a410474ff12eb"
  },
  {
   "cell_type": "code",
   "outputs": [
    {
     "name": "stdout",
     "output_type": "stream",
     "text": [
      "hello\n",
      "hello there\n",
      "hellohello\n"
     ]
    }
   ],
   "source": [
    "x = \"hello\"\n",
    "y = \" there\"\n",
    "z = x * 2\n",
    "print(x)\n",
    "print(x + y)\n",
    "print(z)"
   ],
   "metadata": {
    "collapsed": false,
    "ExecuteTime": {
     "end_time": "2024-06-07T21:35:30.445022Z",
     "start_time": "2024-06-07T21:35:30.441810Z"
    }
   },
   "id": "951ef26a32bab163",
   "execution_count": 13
  },
  {
   "cell_type": "markdown",
   "source": [
    "You can name variables *almost* anything you want. The biggest issue is where you do something like reassign the `print` function.\n",
    "\n",
    "```\n",
    "print(5)\n",
    "print = \"hello there\"\n",
    "print(10)  # ERROR, print is now 5, not a function!\n",
    "```"
   ],
   "metadata": {
    "collapsed": false
   },
   "id": "ba60dae549f540eb"
  },
  {
   "cell_type": "markdown",
   "source": [
    "## Comments\n",
    "\n",
    "You can write a comment at any time in Python with #"
   ],
   "metadata": {
    "collapsed": false
   },
   "id": "e0cafd91e9b54a2"
  },
  {
   "cell_type": "code",
   "outputs": [
    {
     "name": "stdout",
     "output_type": "stream",
     "text": [
      "hello\n"
     ]
    }
   ],
   "source": [
    "print(\"hello\")  # this is just a comment and won't be run\n",
    "# another comment"
   ],
   "metadata": {
    "collapsed": false,
    "ExecuteTime": {
     "end_time": "2024-06-07T21:35:30.451795Z",
     "start_time": "2024-06-07T21:35:30.448966Z"
    }
   },
   "id": "7cc9c868adcd72a8",
   "execution_count": 14
  },
  {
   "cell_type": "markdown",
   "source": [
    "## Types\n",
    "\n",
    "This is an important one. Every value in python (ex. 5 or 10.1 or \"hello\") has a *type*. Some basic types are as follows:\n",
    "- int: whole numbers, ex. 1\n",
    "- float: decimal numbers, ex. 2.01\n",
    "- string: text characters in quotes, ex. \"string 123\"\n",
    "- None: just the value `None` in Python, means nothing or empty\n",
    "- list: a list of items, ex. [1, 2, 3]\n",
    "\n",
    "Because values have a type, and variables have a value, variables have a type themselves (the same as their value). ex."
   ],
   "metadata": {
    "collapsed": false
   },
   "id": "7c09fbbe5b08fc6d"
  },
  {
   "cell_type": "code",
   "outputs": [],
   "source": [
    "x = 5  # the variable x has type int right now, because its value is of type int"
   ],
   "metadata": {
    "collapsed": false,
    "ExecuteTime": {
     "end_time": "2024-06-07T21:35:30.455854Z",
     "start_time": "2024-06-07T21:35:30.453623Z"
    }
   },
   "id": "66ee1373e63d1b80",
   "execution_count": 15
  },
  {
   "cell_type": "markdown",
   "source": [
    "You can see the type of a variable or value by using the `type` function."
   ],
   "metadata": {
    "collapsed": false
   },
   "id": "27df67f8e134927f"
  },
  {
   "cell_type": "code",
   "outputs": [
    {
     "name": "stdout",
     "output_type": "stream",
     "text": [
      "The type of 100 is:\n",
      "<class 'int'>\n",
      "The type of x is:\n",
      "<class 'str'>\n"
     ]
    }
   ],
   "source": [
    "print(\"The type of 100 is:\")\n",
    "print(type(100))\n",
    "\n",
    "x = \"some string\"\n",
    "print(\"The type of x is:\")\n",
    "print(type(x))\n"
   ],
   "metadata": {
    "collapsed": false,
    "ExecuteTime": {
     "end_time": "2024-06-07T21:35:30.460502Z",
     "start_time": "2024-06-07T21:35:30.457313Z"
    }
   },
   "id": "9f76a5e970f36d40",
   "execution_count": 16
  },
  {
   "cell_type": "markdown",
   "source": [
    "You are free to change the type of a variable whenever you want."
   ],
   "metadata": {
    "collapsed": false
   },
   "id": "5d6936f39c12e654"
  },
  {
   "cell_type": "code",
   "outputs": [
    {
     "name": "stdout",
     "output_type": "stream",
     "text": [
      "<class 'int'>\n",
      "<class 'float'>\n"
     ]
    }
   ],
   "source": [
    "x = 1\n",
    "print(type(x))\n",
    "x = 1.0\n",
    "print(type(x))"
   ],
   "metadata": {
    "collapsed": false,
    "ExecuteTime": {
     "end_time": "2024-06-07T21:35:30.464787Z",
     "start_time": "2024-06-07T21:35:30.462575Z"
    }
   },
   "id": "ef713954ad683c12",
   "execution_count": 17
  },
  {
   "cell_type": "markdown",
   "source": [
    "## F strings\n",
    "\n",
    "F strings (or format strings) are a *super* easy way to create and print strings in Python. An f string is like a regular string, but starts with an f before the quotes. Inside an f string you can use brackets (`{}`) to insert a variable into the string."
   ],
   "metadata": {
    "collapsed": false
   },
   "id": "caecaeec19fa7050"
  },
  {
   "cell_type": "code",
   "outputs": [
    {
     "name": "stdout",
     "output_type": "stream",
     "text": [
      "My name is Bob and my age is 10\n",
      "The weather is cloudy\n"
     ]
    }
   ],
   "source": [
    "my_age = 10\n",
    "my_name = \"Bob\"\n",
    "\n",
    "print(f\"My name is {my_name} and my age is {my_age}\")\n",
    "\n",
    "weather = \"cloudy\"\n",
    "weather_report = f\"The weather is {weather}\"\n",
    "print(weather_report)"
   ],
   "metadata": {
    "collapsed": false,
    "ExecuteTime": {
     "end_time": "2024-06-07T21:35:30.467489Z",
     "start_time": "2024-06-07T21:35:30.465463Z"
    }
   },
   "id": "b728d6f56b948179",
   "execution_count": 18
  },
  {
   "cell_type": "markdown",
   "source": [
    "## Math Operations\n",
    "\n",
    "In Python `*` is used for multiplication, and `**` is used for exponents - other than that everything else works as expected. \n",
    "\n",
    "Ints will automatically be converted to floats when necessary ex. 1 / 2. You can use `//` for integer division, ex. 5 // 2 = 2.\n",
    "\n",
    "Python follows regular order of operations, but you can use parenthesis wherever you want as well. "
   ],
   "metadata": {
    "collapsed": false
   },
   "id": "c3c763e526f414fd"
  },
  {
   "cell_type": "code",
   "outputs": [
    {
     "name": "stdout",
     "output_type": "stream",
     "text": [
      "x = 10\n",
      "y = 8\n",
      "x + y = 18\n",
      "x - y = 2\n",
      "x * y = 80\n",
      "x / y = 1.25\n",
      "x // y = 1\n",
      "x^3 = 1000\n",
      "x - x * y = -70\n",
      "(x - x) * y = 0\n"
     ]
    }
   ],
   "source": [
    "x = 10\n",
    "y = 8\n",
    "print(f\"x = {x}\")\n",
    "print(f\"y = {y}\")\n",
    "print(f\"x + y = {x + y}\")\n",
    "print(f\"x - y = {x - y}\")\n",
    "print(f\"x * y = {x * y}\")\n",
    "print(f\"x / y = {x / y}\")\n",
    "print(f\"x // y = {x // y}\")\n",
    "print(f\"x^3 = {x ** 3}\")\n",
    "print(f\"x - x * y = {x - x * y}\")\n",
    "print(f\"(x - x) * y = {(x - x) * y}\")"
   ],
   "metadata": {
    "collapsed": false,
    "ExecuteTime": {
     "end_time": "2024-06-07T21:35:30.471202Z",
     "start_time": "2024-06-07T21:35:30.468487Z"
    }
   },
   "id": "1baa445e23b268cb",
   "execution_count": 19
  },
  {
   "cell_type": "markdown",
   "source": [
    "## User Input\n",
    "\n",
    "You can get user input in your program with the `input` function. This will pause your program until the user presses enter. You can put something in the parenthesis of the `input` function and it will be displayed as a prompt to the user. "
   ],
   "metadata": {
    "collapsed": false
   },
   "id": "b274abfa28ceeb99"
  },
  {
   "cell_type": "code",
   "outputs": [
    {
     "name": "stdout",
     "output_type": "stream",
     "text": [
      "The user inputted: hi\n"
     ]
    }
   ],
   "source": [
    "user_message = input()\n",
    "\n",
    "print(f\"The user inputted: {user_message}\")"
   ],
   "metadata": {
    "collapsed": false,
    "ExecuteTime": {
     "end_time": "2024-06-07T21:35:33.000132Z",
     "start_time": "2024-06-07T21:35:30.499583Z"
    }
   },
   "id": "9e5cd433208e0ca8",
   "execution_count": 20
  },
  {
   "cell_type": "markdown",
   "source": [
    "You may notice that the type of the result of `input` is always a string. What if we wanted to ask the user for an int to do math with? We can (try) to convert a value from type to another through *casting*. Here's an example:"
   ],
   "metadata": {
    "collapsed": false
   },
   "id": "d98b08c3f32f00c9"
  },
  {
   "cell_type": "code",
   "outputs": [
    {
     "name": "stdout",
     "output_type": "stream",
     "text": [
      "x: 100.5 (type <class 'str'>)\n",
      "x: 100.5 (type <class 'float'>)\n",
      "x: 100 (type <class 'int'>)\n"
     ]
    }
   ],
   "source": [
    "x = \"100.5\"\n",
    "print(f\"x: {x} (type {type(x)})\")\n",
    "x = float(x)\n",
    "print(f\"x: {x} (type {type(x)})\")\n",
    "x = int(x)\n",
    "print(f\"x: {x} (type {type(x)})\")"
   ],
   "metadata": {
    "collapsed": false,
    "ExecuteTime": {
     "end_time": "2024-06-07T21:35:33.005844Z",
     "start_time": "2024-06-07T21:35:33.001750Z"
    }
   },
   "id": "7c43664696850129",
   "execution_count": 21
  },
  {
   "cell_type": "markdown",
   "source": [
    "Notice how the value of `x` was rounded when we cast it from a float to an int. \n",
    "\n",
    "Sometimes casting a variable will fail and crash your program, like if you tried to do `int(\"not a number\")` - there's no way to turn that into an int.\n",
    "\n",
    "We can apply this to the `input` function:"
   ],
   "metadata": {
    "collapsed": false
   },
   "id": "3b05779b6ff041a9"
  },
  {
   "cell_type": "code",
   "outputs": [
    {
     "name": "stdout",
     "output_type": "stream",
     "text": [
      "Welcome to the calculator that multiplies everything by 3\n"
     ]
    },
    {
     "ename": "ValueError",
     "evalue": "could not convert string to float: 'hi'",
     "output_type": "error",
     "traceback": [
      "\u001B[0;31m---------------------------------------------------------------------------\u001B[0m",
      "\u001B[0;31mValueError\u001B[0m                                Traceback (most recent call last)",
      "Cell \u001B[0;32mIn[22], line 3\u001B[0m\n\u001B[1;32m      1\u001B[0m \u001B[38;5;28mprint\u001B[39m(\u001B[38;5;124m\"\u001B[39m\u001B[38;5;124mWelcome to the calculator that multiplies everything by 3\u001B[39m\u001B[38;5;124m\"\u001B[39m)\n\u001B[1;32m      2\u001B[0m input_number \u001B[38;5;241m=\u001B[39m \u001B[38;5;28minput\u001B[39m(\u001B[38;5;124m\"\u001B[39m\u001B[38;5;124mEnter a number - if you don\u001B[39m\u001B[38;5;124m'\u001B[39m\u001B[38;5;124mt the program might crash :)\u001B[39m\u001B[38;5;124m\"\u001B[39m)\n\u001B[0;32m----> 3\u001B[0m input_number \u001B[38;5;241m=\u001B[39m \u001B[38;5;28;43mfloat\u001B[39;49m\u001B[43m(\u001B[49m\u001B[43minput_number\u001B[49m\u001B[43m)\u001B[49m\n\u001B[1;32m      4\u001B[0m \u001B[38;5;28mprint\u001B[39m(\u001B[38;5;124mf\u001B[39m\u001B[38;5;124m\"\u001B[39m\u001B[38;5;132;01m{\u001B[39;00minput_number\u001B[38;5;132;01m}\u001B[39;00m\u001B[38;5;124m * 3 = \u001B[39m\u001B[38;5;132;01m{\u001B[39;00minput_number\u001B[38;5;250m \u001B[39m\u001B[38;5;241m*\u001B[39m\u001B[38;5;250m \u001B[39m\u001B[38;5;241m3\u001B[39m\u001B[38;5;132;01m}\u001B[39;00m\u001B[38;5;124m\"\u001B[39m)\n",
      "\u001B[0;31mValueError\u001B[0m: could not convert string to float: 'hi'"
     ]
    }
   ],
   "source": [
    "print(\"Welcome to the calculator that multiplies everything by 3\")\n",
    "input_number = input(\"Enter a number - if you don't the program might crash :)\")\n",
    "input_number = float(input_number)\n",
    "print(f\"{input_number} * 3 = {input_number * 3}\")"
   ],
   "metadata": {
    "collapsed": false,
    "ExecuteTime": {
     "end_time": "2024-06-07T21:35:34.408501Z",
     "start_time": "2024-06-07T21:35:33.007601Z"
    }
   },
   "id": "4a873b8d97ddfac5",
   "execution_count": 22
  },
  {
   "cell_type": "markdown",
   "source": [
    "## Last note on jupyter notebook\n",
    "\n",
    "You might have seen before, another reason jupyter notebooks are nice is because when there is an error, only that little cell crashes. When all your code is in one big `.py` file, it can be annoying finding bugs or errors or having your file not run at all. \n",
    "\n",
    "**A confusing thing about jupyter notebooks:** It will \"remember\" the code you have run, in the order that you have run it. So I could write and run a cell like this:\n",
    "```\n",
    "value = 10000\n",
    "```\n",
    "then totally delete it, then create and run a cell like this:\n",
    "```\n",
    "print(value)\n",
    "```\n",
    "and it would just run it happily because it \"remembers\" `value` from that other cell that was run. This can actually get you in sticky situations like how in this notebook I have reused the variable name `x` a lot. It's possible I could run my cells out of order and then something would happen that I'm not expecting. \n",
    "\n",
    "In order to make the notebook \"forget\" everything and restart, you need to `Restart Kernel`. \n",
    "\n",
    "Also this is how you would embed LaTeX equations: $$c = \\sqrt{a^2 + b^2}$$\n"
   ],
   "metadata": {
    "collapsed": false
   },
   "id": "5813ec6323afa631"
  }
 ],
 "metadata": {
  "kernelspec": {
   "display_name": "Python 3",
   "language": "python",
   "name": "python3"
  },
  "language_info": {
   "codemirror_mode": {
    "name": "ipython",
    "version": 2
   },
   "file_extension": ".py",
   "mimetype": "text/x-python",
   "name": "python",
   "nbconvert_exporter": "python",
   "pygments_lexer": "ipython2",
   "version": "2.7.6"
  }
 },
 "nbformat": 4,
 "nbformat_minor": 5
}
