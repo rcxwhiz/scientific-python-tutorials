{
 "cells": [
  {
   "cell_type": "markdown",
   "source": [
    "# Arrays (lists), loops\n",
    "\n",
    "In programming we often want to deal with pieces of data that belong to something together but don't really have their own name, like if we were writing a program that can calculate the maximum and minimum temperatures for some amount of time, we wouldn't want to individually write out variables for the temperature each day or something. We would rather just have them all together in a list. In Python this kind of data is called a list, but in other languages and things it might be called an array.\n",
    "\n",
    "Creating a Python list is easy with `[]` and commas separating the values:"
   ],
   "metadata": {
    "collapsed": false
   },
   "id": "98b95d85a73d3f56"
  },
  {
   "cell_type": "code",
   "outputs": [
    {
     "name": "stdout",
     "output_type": "stream",
     "text": [
      "[1, 2, 3]\n",
      "['hello', -200, [1, 2, 3], 'bye']\n"
     ]
    }
   ],
   "source": [
    "my_list = [1, 2, 3]\n",
    "print(my_list)\n",
    "\n",
    "my_interesting_list = [\"hello\", -200, [1, 2, 3], \"bye\"]\n",
    "print(my_interesting_list)"
   ],
   "metadata": {
    "collapsed": false,
    "ExecuteTime": {
     "end_time": "2024-06-07T21:39:56.766768Z",
     "start_time": "2024-06-07T21:39:56.760890Z"
    }
   },
   "id": "dd173122ad00c1cd",
   "execution_count": 2
  },
  {
   "cell_type": "markdown",
   "source": [
    "note: `list` is a *keyword* in Python you don't want to overwrite, so don't use that as a variable name.\n",
    "\n",
    "## Iterating through the items in a list\n",
    "\n",
    "We can use a loop to get through the items in a list, in the form `for *item* in *list*:`, followed by code indented by 4 spaces. If we were to write `for data_point in data:`, the variable `data_point` will be available in all the following indented code, and that code will be repeated for each item in `data`."
   ],
   "metadata": {
    "collapsed": false
   },
   "id": "33be6529d890caf3"
  },
  {
   "cell_type": "code",
   "outputs": [
    {
     "name": "stdout",
     "output_type": "stream",
     "text": [
      "Current data point: 5\n",
      "Current data point: 3\n",
      "Current data point: 7\n",
      "Current data point: 8\n",
      "Current data point: 2\n"
     ]
    }
   ],
   "source": [
    "data = [5, 3, 7, 8, 2]\n",
    "for data_point in data:\n",
    "    print(f\"Current data point: {data_point}\")"
   ],
   "metadata": {
    "collapsed": false,
    "ExecuteTime": {
     "end_time": "2024-06-07T21:42:43.306569Z",
     "start_time": "2024-06-07T21:42:43.300566Z"
    }
   },
   "id": "348d17fd7e0c774e",
   "execution_count": 3
  },
  {
   "cell_type": "markdown",
   "source": [
    "## Accessing an item by index\n",
    "\n",
    "If you already know the position of an item in a list you want to access, you can access it by that index. Python list indexes start at **0**. You can use negative indexes to get the last values in a list."
   ],
   "metadata": {
    "collapsed": false
   },
   "id": "7e981e7ac12762ed"
  },
  {
   "cell_type": "code",
   "outputs": [
    {
     "name": "stdout",
     "output_type": "stream",
     "text": [
      "The first data point is: 5\n",
      "The third data point is: 7\n",
      "The last data point is: 2\n"
     ]
    }
   ],
   "source": [
    "data = [5, 3, 7, 8, 2]\n",
    "print(f\"The first data point is: {data[0]}\")\n",
    "print(f\"The third data point is: {data[2]}\")\n",
    "print(f\"The last data point is: {data[-1]}\")"
   ],
   "metadata": {
    "collapsed": false,
    "ExecuteTime": {
     "end_time": "2024-06-07T21:45:23.730605Z",
     "start_time": "2024-06-07T21:45:23.723478Z"
    }
   },
   "id": "5f2f169e9423be09",
   "execution_count": 4
  },
  {
   "cell_type": "markdown",
   "source": [
    "## Tuples\n",
    "\n",
    "A tuple is very similar to a list. The differences are that you declare a tuple with parentheses `()` instead of brackets `[]`, and you cannot change or edit a tuple. "
   ],
   "metadata": {
    "collapsed": false
   },
   "id": "e572a1c44725b28e"
  },
  {
   "cell_type": "code",
   "outputs": [
    {
     "name": "stdout",
     "output_type": "stream",
     "text": [
      "[100, 2, 4]\n"
     ]
    },
    {
     "ename": "TypeError",
     "evalue": "'tuple' object does not support item assignment",
     "output_type": "error",
     "traceback": [
      "\u001B[0;31m---------------------------------------------------------------------------\u001B[0m",
      "\u001B[0;31mTypeError\u001B[0m                                 Traceback (most recent call last)",
      "Cell \u001B[0;32mIn[5], line 6\u001B[0m\n\u001B[1;32m      3\u001B[0m \u001B[38;5;28mprint\u001B[39m(my_list)\n\u001B[1;32m      5\u001B[0m my_tuple \u001B[38;5;241m=\u001B[39m (\u001B[38;5;241m1\u001B[39m, \u001B[38;5;241m2\u001B[39m, \u001B[38;5;241m4\u001B[39m)\n\u001B[0;32m----> 6\u001B[0m \u001B[43mmy_tuple\u001B[49m\u001B[43m[\u001B[49m\u001B[38;5;241;43m0\u001B[39;49m\u001B[43m]\u001B[49m \u001B[38;5;241m=\u001B[39m \u001B[38;5;241m100\u001B[39m  \u001B[38;5;66;03m# this will crash the cell\u001B[39;00m\n\u001B[1;32m      7\u001B[0m \u001B[38;5;28mprint\u001B[39m(my_tuple)\n",
      "\u001B[0;31mTypeError\u001B[0m: 'tuple' object does not support item assignment"
     ]
    }
   ],
   "source": [
    "my_list = [1, 2, 4]\n",
    "my_list[0] = 100\n",
    "print(my_list)\n",
    "\n",
    "my_tuple = (1, 2, 4)\n",
    "my_tuple[0] = 100  # this will crash the cell\n",
    "print(my_tuple)"
   ],
   "metadata": {
    "collapsed": false,
    "ExecuteTime": {
     "end_time": "2024-06-07T21:47:37.847086Z",
     "start_time": "2024-06-07T21:47:37.729838Z"
    }
   },
   "id": "ef82150b1324a783",
   "execution_count": 5
  },
  {
   "cell_type": "markdown",
   "source": [
    "## Looping with an index\n",
    "\n",
    "A lot of times you will want to loop through each item in a list AND have the index of the item that you are working with. The `enumerate` function is the easiest way to do this."
   ],
   "metadata": {
    "collapsed": false
   },
   "id": "47de082e18006810"
  },
  {
   "cell_type": "code",
   "outputs": [
    {
     "name": "stdout",
     "output_type": "stream",
     "text": [
      "data point 0: 100\n",
      "data point 1: 200\n",
      "data point 2: 300\n",
      "data point 3: 400\n"
     ]
    }
   ],
   "source": [
    "data = [100, 200, 300, 400]\n",
    "for index, data_point in enumerate(data):\n",
    "    print(f\"data point {index}: {data_point}\")"
   ],
   "metadata": {
    "collapsed": false,
    "ExecuteTime": {
     "end_time": "2024-06-07T21:49:13.960774Z",
     "start_time": "2024-06-07T21:49:13.954852Z"
    }
   },
   "id": "9f692109bf4a92f3",
   "execution_count": 6
  },
  {
   "cell_type": "markdown",
   "source": [
    "## A loop without a list\n",
    "\n",
    "What if you just want to loop a certain number of times, but you don't have any data you want to loop through? You would use the `range` function, which will give you the numbers you want to iterate through. There are 3 ways to call the `range` function:\n",
    "- `range(end)` - goes from 0 to `end` (non-inclusive)\n",
    "- `range(start, end)` - goes from `start` (inclusive) to `end` (non-inclusive)\n",
    "- `range(start, end, step)` - same as above but with specific step size"
   ],
   "metadata": {
    "collapsed": false
   },
   "id": "a6c6dfe3c64c8355"
  },
  {
   "cell_type": "code",
   "outputs": [
    {
     "name": "stdout",
     "output_type": "stream",
     "text": [
      "This program is going to count to 10\n",
      "1\n",
      "2\n",
      "3\n",
      "4\n",
      "5\n",
      "6\n",
      "7\n",
      "8\n",
      "9\n",
      "10\n"
     ]
    }
   ],
   "source": [
    "number_to_count_to = 10\n",
    "print(f\"This program is going to count to {number_to_count_to}\")\n",
    "for num in range(number_to_count_to):\n",
    "    print(num + 1)\n",
    "    # I include a +1 since range starts at 0 and ends before the number"
   ],
   "metadata": {
    "collapsed": false,
    "ExecuteTime": {
     "end_time": "2024-06-07T21:53:12.485935Z",
     "start_time": "2024-06-07T21:53:12.479564Z"
    }
   },
   "id": "d9cc64fd6c2dfd79",
   "execution_count": 7
  },
  {
   "cell_type": "markdown",
   "source": [
    "## Zipping things together\n",
    "\n",
    "What if you have two lists and you want to go through each item paired up? You can use the `zip` function."
   ],
   "metadata": {
    "collapsed": false
   },
   "id": "e7051e8993b7898f"
  },
  {
   "cell_type": "code",
   "outputs": [
    {
     "name": "stdout",
     "output_type": "stream",
     "text": [
      "Forcast\n",
      "TUE: 99.0 degrees\n",
      "WED: 87.5 degrees\n",
      "THU: 100.1 degrees\n",
      "FRI: 99.2 degrees\n",
      "Forcast (with low temps)\n",
      "TUE: 99.0 - 72.1\n",
      "WED: 87.5 - 73.3\n",
      "THU: 100.1 - 76.1\n",
      "FRI: 99.2 - 69.0\n"
     ]
    }
   ],
   "source": [
    "days = [\"TUE\", \"WED\", \"THU\", \"FRI\"]\n",
    "highs = [99.0, 87.5, 100.1, 99.2]\n",
    "\n",
    "print(\"Forcast\")\n",
    "for day, high in zip(days, highs):\n",
    "    print(f\"{day}: {high} degrees\")\n",
    "    \n",
    "# Also works with more than two lists\n",
    "\n",
    "lows = [72.1, 73.3, 76.1, 69.0]\n",
    "\n",
    "print(\"Forcast (with low temps)\")\n",
    "for day, high, low in zip(days, highs, lows):\n",
    "    print(f\"{day}: {high} - {low}\")\n"
   ],
   "metadata": {
    "collapsed": false,
    "ExecuteTime": {
     "end_time": "2024-06-07T21:59:07.314466Z",
     "start_time": "2024-06-07T21:59:07.309547Z"
    }
   },
   "id": "8a31d4a6c2a7bc77",
   "execution_count": 10
  },
  {
   "cell_type": "markdown",
   "source": [
    "## List comprehension\n",
    "\n",
    "This is probably the most complicated looking part of lists. You can create a list while looping though something else, and transforming it. The for is like this: `[*transformed item* for *item* in *list*]`. I'll show some examples. \n"
   ],
   "metadata": {
    "collapsed": false
   },
   "id": "5ce1f776e6705bf6"
  },
  {
   "cell_type": "code",
   "outputs": [
    {
     "name": "stdout",
     "output_type": "stream",
     "text": [
      "Original numbers: [1, 2, 3, 4, 5]\n",
      "Doubled numbers: [2, 4, 6, 8, 10]\n",
      "Original data: [4, 3, 6, 7]\n",
      "Normalized data: [0.5714285714285714, 0.42857142857142855, 0.8571428571428571, 1.0]\n"
     ]
    }
   ],
   "source": [
    "numbers = [1, 2, 3, 4, 5]\n",
    "doubled_numbers = [number * 2 for number in numbers]\n",
    "print(f\"Original numbers: {numbers}\")\n",
    "print(f\"Doubled numbers: {doubled_numbers}\")\n",
    "\n",
    "data = [4, 3, 6, 7]\n",
    "max_value = 7\n",
    "normalized_data = [data_point / max_value for data_point in data]\n",
    "print(f\"Original data: {data}\")\n",
    "print(f\"Normalized data: {normalized_data}\")\n"
   ],
   "metadata": {
    "collapsed": false,
    "ExecuteTime": {
     "end_time": "2024-06-07T22:03:22.078503Z",
     "start_time": "2024-06-07T22:03:22.072060Z"
    }
   },
   "id": "6aa2712ec8d2677b",
   "execution_count": 11
  },
  {
   "cell_type": "code",
   "outputs": [],
   "source": [],
   "metadata": {
    "collapsed": false
   },
   "id": "9f281d12e623f470"
  }
 ],
 "metadata": {
  "kernelspec": {
   "display_name": "Python 3",
   "language": "python",
   "name": "python3"
  },
  "language_info": {
   "codemirror_mode": {
    "name": "ipython",
    "version": 2
   },
   "file_extension": ".py",
   "mimetype": "text/x-python",
   "name": "python",
   "nbconvert_exporter": "python",
   "pygments_lexer": "ipython2",
   "version": "2.7.6"
  }
 },
 "nbformat": 4,
 "nbformat_minor": 5
}
